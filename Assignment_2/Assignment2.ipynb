{
 "cells": [
  {
   "cell_type": "code",
   "execution_count": null,
   "id": "ffd41407",
   "metadata": {},
   "outputs": [],
   "source": [
    "import pandas as pd\n",
    "import numpy as np\n",
    "\n",
    "# Load dataset\n",
    "df = pd.read_csv(\"e commerce.csv\")\n",
    "\n",
    "# 1. Remove duplicate rows\n",
    "df.drop_duplicates(inplace=True)\n",
    "\n",
    "# 2. Drop columns with too many missing values\n",
    "df.drop(columns=['delivery_details'], inplace=True)\n",
    "\n",
    "# 3. Handle missing values\n",
    "df['brand'].fillna(\"Unknown\", inplace=True)\n",
    "df['description'].fillna(\"No description available\", inplace=True)\n",
    "df['discounted_price'].fillna(df['original_price'], inplace=True)\n",
    "df['average_rating'].fillna(df['average_rating'].mean(), inplace=True)\n",
    "\n",
    "# 4. Remove outliers in price columns\n",
    "df = df[df['original_price'] < df['original_price'].quantile(0.99)]\n",
    "\n",
    "# 5. Reset index\n",
    "df.reset_index(drop=True, inplace=True)\n",
    "\n"
   ]
  }
 ],
 "metadata": {
  "kernelspec": {
   "display_name": "Python 3",
   "language": "python",
   "name": "python3"
  },
  "language_info": {
   "codemirror_mode": {
    "name": "ipython",
    "version": 3
   },
   "file_extension": ".py",
   "mimetype": "text/x-python",
   "name": "python",
   "nbconvert_exporter": "python",
   "pygments_lexer": "ipython3",
   "version": "3.14.0"
  }
 },
 "nbformat": 4,
 "nbformat_minor": 5
}
